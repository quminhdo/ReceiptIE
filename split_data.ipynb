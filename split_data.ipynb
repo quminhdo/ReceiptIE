{
 "cells": [
  {
   "cell_type": "code",
   "execution_count": 1,
   "metadata": {},
   "outputs": [],
   "source": [
    "import os\n",
    "from glob import glob\n",
    "import json\n",
    "from collections import defaultdict\n",
    "import random\n",
    "import numpy as np\n",
    "from gensim.models import KeyedVectors\n",
    "from gensim.scripts.glove2word2vec import glove2word2vec\n",
    "from nltk.tokenize import word_tokenize\n",
    "from src.dataio.utils import is_number, get_word_from_text, find_nth\n",
    "from collections import Counter"
   ]
  },
  {
   "cell_type": "markdown",
   "metadata": {},
   "source": [
    "### Split data"
   ]
  },
  {
   "cell_type": "code",
   "execution_count": 5,
   "metadata": {},
   "outputs": [],
   "source": [
    "text_files = sorted(glob(os.path.join(\"clean_data/ie_data\", \"*.txt\")))\n",
    "split_dir = \"splits\"\n",
    "if not os.path.isdir(split_dir):\n",
    "    os.makedirs(split_dir)\n",
    "\n",
    "templates = defaultdict(list)\n",
    "\n",
    "for tf in text_files:\n",
    "    with open(tf, \"r\", encoding=\"utf-8\") as f:\n",
    "        d = json.load(f)\n",
    "        templates[d[\"company\"]].append(os.path.basename(tf).split(\".\")[0])\n",
    "        \n",
    "data_size = len(templates.keys())\n",
    "n_train = int(0.6 * data_size)\n",
    "n_val = int(0.2 * data_size)\n",
    "n_test = data_size - n_train - n_val\n",
    "\n",
    "companies = sorted(templates.keys())\n",
    "random.seed(0)\n",
    "random.shuffle(companies)\n",
    "\n",
    "train_companies = companies[:n_train]\n",
    "val_companies = companies[n_train:n_train+n_val]\n",
    "test_companies = companies[-n_test:]\n",
    "\n",
    "def distribute_files(templates, companies, max_samples):\n",
    "    files = []\n",
    "    for company in companies:\n",
    "        docs = templates[company]\n",
    "        random.seed(0)\n",
    "        random.shuffle(docs)\n",
    "        files += docs[:max_samples]\n",
    "    return files\n",
    "\n",
    "max_samples = 10\n",
    "train_files = distribute_files(templates, train_companies, max_samples)\n",
    "val_files = distribute_files(templates, val_companies, max_samples)\n",
    "test_files = distribute_files(templates, test_companies, max_samples)\n",
    "print(len(train_files), len(val_files), len(test_files))\n",
    "print(len(train_files) + len(val_files) + len(test_files))\n",
    "\n",
    "with open(os.path.join(split_dir, \"train_list.txt\"), \"w\") as f:\n",
    "    f.write(\"\\n\".join(train_files))\n",
    "with open(os.path.join(split_dir, \"val_list.txt\"), \"w\") as f:\n",
    "    f.write(\"\\n\".join(val_files))\n",
    "with open(os.path.join(split_dir, \"test_list.txt\"), \"w\") as f:\n",
    "    f.write(\"\\n\".join(test_files))"
   ]
  },
  {
   "cell_type": "code",
   "execution_count": 59,
   "metadata": {},
   "outputs": [],
   "source": [
    "split_dir = \"splits\"\n",
    "max_vocab = 512\n",
    "vocabs = Counter()\n",
    "words = []\n",
    "\n",
    "with open(os.path.join(split_dir, \"train_list.txt\"), \"r\") as f:\n",
    "    train_files = f.read().splitlines()\n",
    "for f in train_files:\n",
    "    with open(os.path.join(\"ocr_results\", \"%s.txt\"%f), \"r\") as f:\n",
    "        lines = f.read().splitlines()\n",
    "    for line in lines:\n",
    "        sep = find_nth(line, \",\", 8)\n",
    "        word = get_word_from_text(line[sep+1:]).lower()\n",
    "        words.append(\"[NUMBER]\" if is_number(word) else word)\n",
    "vocabs.update(words)"
   ]
  },
  {
   "cell_type": "code",
   "execution_count": 60,
   "metadata": {},
   "outputs": [],
   "source": [
    "words = [word[0] for word in vocabs.most_common(512)]\n",
    "words = [\"[PAD]\", \"[UNK]\"] + words\n",
    "with open(os.path.join(split_dir, \"vocab.txt\"), \"w\") as f:\n",
    "    f.write(\"\\n\".join(words))"
   ]
  },
  {
   "cell_type": "code",
   "execution_count": 15,
   "metadata": {},
   "outputs": [
    {
     "name": "stderr",
     "output_type": "stream",
     "text": [
      "C:\\Users\\Do_Quang_Minh\\Anaconda3\\envs\\torch-1.7\\lib\\site-packages\\ipykernel_launcher.py:21: DeprecationWarning: Call to deprecated `wv` (Attribute will be removed in 4.0.0, use self instead).\n"
     ]
    }
   ],
   "source": [
    "# load the Stanford GloVe model\n",
    "size = 300\n",
    "glove_input_file = 'word_embedding/glove.6B/glove.6B.%dd.txt'%size\n",
    "word2vec_output_file = 'word_embedding/glove.6B.%dd.txt.word2vec'%size\n",
    "glove2word2vec(glove_input_file, word2vec_output_file)\n",
    "\n",
    "model = KeyedVectors.load_word2vec_format(word2vec_output_file, binary=False)\n",
    "\n",
    "numberVectors = {}\n",
    "for word in model.vocab.keys():\n",
    "    if is_number(word):\n",
    "        numberVectors[word] = model[word]\n",
    "numberVector = np.mean(list(numberVectors.values()), axis=0)\n",
    "\n",
    "added_embeddings = {\"[PAD]\": np.zeros((size), dtype=np.float32),\n",
    "                   \"[UNK]\": np.zeros((size), dtype=np.float32),\n",
    "                   \"[NUMBER]\": numberVector}\n",
    "added_words = [\"[PAD]\", \"[UNK]\", \"[NUMBER]\"]\n",
    "added_vectors = [np.zeros((size), dtype=np.float32), np.zeros((size), dtype=np.float32), numberVector]\n",
    "model.add(added_words, added_vectors)\n",
    "model.wv.save(\"splits/w2v-%d\"%size)"
   ]
  },
  {
   "cell_type": "code",
   "execution_count": null,
   "metadata": {},
   "outputs": [],
   "source": []
  }
 ],
 "metadata": {
  "kernelspec": {
   "display_name": "Python 3",
   "language": "python",
   "name": "python3"
  },
  "language_info": {
   "codemirror_mode": {
    "name": "ipython",
    "version": 3
   },
   "file_extension": ".py",
   "mimetype": "text/x-python",
   "name": "python",
   "nbconvert_exporter": "python",
   "pygments_lexer": "ipython3",
   "version": "3.6.12"
  }
 },
 "nbformat": 4,
 "nbformat_minor": 4
}
